{
  "nbformat": 4,
  "nbformat_minor": 0,
  "metadata": {
    "colab": {
      "name": "Projeto_Individual.ipynb",
      "provenance": [],
      "collapsed_sections": [
        "YR9TUHxKp5b9",
        "FVKowGHEqPfs",
        "XKNeFYgH40cr",
        "VRDX294_rdDS"
      ],
      "mount_file_id": "1J_6cQoFd3Tx6gijOB8j7oRvh6GD3k-qi",
      "authorship_tag": "ABX9TyPznCr/iXdK6NwVi+1o+00G",
      "include_colab_link": true
    },
    "kernelspec": {
      "name": "python3",
      "display_name": "Python 3"
    },
    "language_info": {
      "name": "python"
    }
  },
  "cells": [
    {
      "cell_type": "markdown",
      "metadata": {
        "id": "view-in-github",
        "colab_type": "text"
      },
      "source": [
        "<a href=\"https://colab.research.google.com/github/fjprcosta/ProjetoIndividual/blob/main/Projeto_Individual.ipynb\" target=\"_parent\"><img src=\"https://colab.research.google.com/assets/colab-badge.svg\" alt=\"Open In Colab\"/></a>"
      ]
    },
    {
      "cell_type": "markdown",
      "source": [
        "##Conectores e Bibliotecas"
      ],
      "metadata": {
        "id": "YR9TUHxKp5b9"
      }
    },
    {
      "cell_type": "code",
      "source": [
        "!pip install pyspark"
      ],
      "metadata": {
        "id": "aAZCU9MBrFds"
      },
      "execution_count": null,
      "outputs": []
    },
    {
      "cell_type": "code",
      "execution_count": null,
      "metadata": {
        "id": "j97NlVbAjTX1"
      },
      "outputs": [],
      "source": [
        "pip install pymongo[srv]"
      ]
    },
    {
      "cell_type": "code",
      "source": [
        "pip install gcsfs"
      ],
      "metadata": {
        "id": "wkfPTsq-lRY0"
      },
      "execution_count": null,
      "outputs": []
    },
    {
      "cell_type": "code",
      "source": [
        "from pyspark.sql import SparkSession\n",
        "from pyspark import SparkConf\n",
        "import pyspark.sql.functions as F\n",
        "from pyspark.sql.types import *\n",
        "from pyspark.sql.window import Window\n",
        "from pymongo import MongoClient\n",
        "import pandas as pd\n",
        "from google.cloud import storage\n",
        "import os\n",
        "import pandas.io.sql as psql\n",
        "from numpy import NaN\n",
        "import numpy as np"
      ],
      "metadata": {
        "id": "_XmbGWYIlUlG"
      },
      "execution_count": null,
      "outputs": []
    },
    {
      "cell_type": "code",
      "source": [
        "#Conectando Mongo\n",
        "client = MongoClient(\"mongodb+srv://<username>:<password>@cluster0.mquek.mongodb.net/myFirstDatabase?retryWrites=true&w=majority\")"
      ],
      "metadata": {
        "id": "f3bQ7SAaoHoE"
      },
      "execution_count": null,
      "outputs": []
    },
    {
      "cell_type": "code",
      "source": [
        "#autorizando acesso ao bucket gcp através da key\n",
        "serviceAccount = '/content/drive/MyDrive/Datasets/chave/projeto-soulcode-350816-3ba44a408971.json'\n",
        "\n",
        "os.environ['GOOGLE_APPLICATION_CREDENTIALS'] = serviceAccount"
      ],
      "metadata": {
        "id": "yola6A7UljlN"
      },
      "execution_count": null,
      "outputs": []
    },
    {
      "cell_type": "code",
      "source": [
        "#lendo dataset direto do bucket\n",
        "df = pd.read_csv(r'gs://felipesoulcodebc17/originais/marketing_campaign.csv', sep = \";\", encoding='UTF-8')"
      ],
      "metadata": {
        "id": "phBcuqQ_lt54"
      },
      "execution_count": null,
      "outputs": []
    },
    {
      "cell_type": "markdown",
      "source": [
        "##Transferindo os dados para o Mongo"
      ],
      "metadata": {
        "id": "FVKowGHEqPfs"
      }
    },
    {
      "cell_type": "code",
      "source": [
        "#determinando o database\n",
        "db = client['soulcode']"
      ],
      "metadata": {
        "id": "lw4xQeEopCiO"
      },
      "execution_count": null,
      "outputs": []
    },
    {
      "cell_type": "code",
      "source": [
        "#determinando a collection\n",
        "collection = db['marketing_campaign']"
      ],
      "metadata": {
        "id": "aeXt5GNKpFvc"
      },
      "execution_count": null,
      "outputs": []
    },
    {
      "cell_type": "code",
      "source": [
        "#transformando em dicionario\n",
        "df_dicio = df.to_dict(\"records\")"
      ],
      "metadata": {
        "id": "0enMAHTVpPac"
      },
      "execution_count": null,
      "outputs": []
    },
    {
      "cell_type": "code",
      "source": [
        "#inserinido no mongo\n",
        "collection.insert_many(df_dicio)"
      ],
      "metadata": {
        "id": "Kg7LtqlApTF0"
      },
      "execution_count": null,
      "outputs": []
    },
    {
      "cell_type": "markdown",
      "source": [
        "##Tratamento com Pandas"
      ],
      "metadata": {
        "id": "XKNeFYgH40cr"
      }
    },
    {
      "cell_type": "code",
      "source": [
        "#criando dataframe\n",
        "dforiginal = pd.json_normalize(collection.find())"
      ],
      "metadata": {
        "id": "h_CATGSXpeD1"
      },
      "execution_count": null,
      "outputs": []
    },
    {
      "cell_type": "code",
      "source": [
        "#determinando máximo de colunas a serem exibidas\n",
        "pd.set_option('display.max_columns',33)"
      ],
      "metadata": {
        "id": "imNHz7Xipnok"
      },
      "execution_count": null,
      "outputs": []
    },
    {
      "cell_type": "code",
      "source": [
        "#exibindo uma primeira linha para análize inicial\n",
        "dforiginal.head(1)"
      ],
      "metadata": {
        "id": "OqRRRVdhrcO1",
        "colab": {
          "base_uri": "https://localhost:8080/",
          "height": 145
        },
        "outputId": "d4320347-6280-424e-9d98-1aff812782c7"
      },
      "execution_count": null,
      "outputs": [
        {
          "output_type": "execute_result",
          "data": {
            "text/plain": [
              "                        _id    ID  Year_Birth   Education Marital_Status  \\\n",
              "0  62913d3ac36c21139f74240e  5524        1957  Graduation         Single   \n",
              "\n",
              "    Income  Kidhome  Teenhome Dt_Customer  Recency  MntWines  MntFruits  \\\n",
              "0  58138.0        0         0  2012-09-04       58       635         88   \n",
              "\n",
              "   MntMeatProducts  MntFishProducts  MntSweetProducts  MntGoldProds  \\\n",
              "0              546              172                88            88   \n",
              "\n",
              "   NumDealsPurchases  NumWebPurchases  NumCatalogPurchases  NumStorePurchases  \\\n",
              "0                  3                8                   10                  4   \n",
              "\n",
              "   NumWebVisitsMonth  AcceptedCmp3  AcceptedCmp4  AcceptedCmp5  AcceptedCmp1  \\\n",
              "0                  7             0             0             0             0   \n",
              "\n",
              "   AcceptedCmp2  Complain  Z_CostContact  Z_Revenue  Response  \n",
              "0             0         0              3         11         1  "
            ],
            "text/html": [
              "\n",
              "  <div id=\"df-deeebed5-190f-4a8b-93c4-5fe22c631402\">\n",
              "    <div class=\"colab-df-container\">\n",
              "      <div>\n",
              "<style scoped>\n",
              "    .dataframe tbody tr th:only-of-type {\n",
              "        vertical-align: middle;\n",
              "    }\n",
              "\n",
              "    .dataframe tbody tr th {\n",
              "        vertical-align: top;\n",
              "    }\n",
              "\n",
              "    .dataframe thead th {\n",
              "        text-align: right;\n",
              "    }\n",
              "</style>\n",
              "<table border=\"1\" class=\"dataframe\">\n",
              "  <thead>\n",
              "    <tr style=\"text-align: right;\">\n",
              "      <th></th>\n",
              "      <th>_id</th>\n",
              "      <th>ID</th>\n",
              "      <th>Year_Birth</th>\n",
              "      <th>Education</th>\n",
              "      <th>Marital_Status</th>\n",
              "      <th>Income</th>\n",
              "      <th>Kidhome</th>\n",
              "      <th>Teenhome</th>\n",
              "      <th>Dt_Customer</th>\n",
              "      <th>Recency</th>\n",
              "      <th>MntWines</th>\n",
              "      <th>MntFruits</th>\n",
              "      <th>MntMeatProducts</th>\n",
              "      <th>MntFishProducts</th>\n",
              "      <th>MntSweetProducts</th>\n",
              "      <th>MntGoldProds</th>\n",
              "      <th>NumDealsPurchases</th>\n",
              "      <th>NumWebPurchases</th>\n",
              "      <th>NumCatalogPurchases</th>\n",
              "      <th>NumStorePurchases</th>\n",
              "      <th>NumWebVisitsMonth</th>\n",
              "      <th>AcceptedCmp3</th>\n",
              "      <th>AcceptedCmp4</th>\n",
              "      <th>AcceptedCmp5</th>\n",
              "      <th>AcceptedCmp1</th>\n",
              "      <th>AcceptedCmp2</th>\n",
              "      <th>Complain</th>\n",
              "      <th>Z_CostContact</th>\n",
              "      <th>Z_Revenue</th>\n",
              "      <th>Response</th>\n",
              "    </tr>\n",
              "  </thead>\n",
              "  <tbody>\n",
              "    <tr>\n",
              "      <th>0</th>\n",
              "      <td>62913d3ac36c21139f74240e</td>\n",
              "      <td>5524</td>\n",
              "      <td>1957</td>\n",
              "      <td>Graduation</td>\n",
              "      <td>Single</td>\n",
              "      <td>58138.0</td>\n",
              "      <td>0</td>\n",
              "      <td>0</td>\n",
              "      <td>2012-09-04</td>\n",
              "      <td>58</td>\n",
              "      <td>635</td>\n",
              "      <td>88</td>\n",
              "      <td>546</td>\n",
              "      <td>172</td>\n",
              "      <td>88</td>\n",
              "      <td>88</td>\n",
              "      <td>3</td>\n",
              "      <td>8</td>\n",
              "      <td>10</td>\n",
              "      <td>4</td>\n",
              "      <td>7</td>\n",
              "      <td>0</td>\n",
              "      <td>0</td>\n",
              "      <td>0</td>\n",
              "      <td>0</td>\n",
              "      <td>0</td>\n",
              "      <td>0</td>\n",
              "      <td>3</td>\n",
              "      <td>11</td>\n",
              "      <td>1</td>\n",
              "    </tr>\n",
              "  </tbody>\n",
              "</table>\n",
              "</div>\n",
              "      <button class=\"colab-df-convert\" onclick=\"convertToInteractive('df-deeebed5-190f-4a8b-93c4-5fe22c631402')\"\n",
              "              title=\"Convert this dataframe to an interactive table.\"\n",
              "              style=\"display:none;\">\n",
              "        \n",
              "  <svg xmlns=\"http://www.w3.org/2000/svg\" height=\"24px\"viewBox=\"0 0 24 24\"\n",
              "       width=\"24px\">\n",
              "    <path d=\"M0 0h24v24H0V0z\" fill=\"none\"/>\n",
              "    <path d=\"M18.56 5.44l.94 2.06.94-2.06 2.06-.94-2.06-.94-.94-2.06-.94 2.06-2.06.94zm-11 1L8.5 8.5l.94-2.06 2.06-.94-2.06-.94L8.5 2.5l-.94 2.06-2.06.94zm10 10l.94 2.06.94-2.06 2.06-.94-2.06-.94-.94-2.06-.94 2.06-2.06.94z\"/><path d=\"M17.41 7.96l-1.37-1.37c-.4-.4-.92-.59-1.43-.59-.52 0-1.04.2-1.43.59L10.3 9.45l-7.72 7.72c-.78.78-.78 2.05 0 2.83L4 21.41c.39.39.9.59 1.41.59.51 0 1.02-.2 1.41-.59l7.78-7.78 2.81-2.81c.8-.78.8-2.07 0-2.86zM5.41 20L4 18.59l7.72-7.72 1.47 1.35L5.41 20z\"/>\n",
              "  </svg>\n",
              "      </button>\n",
              "      \n",
              "  <style>\n",
              "    .colab-df-container {\n",
              "      display:flex;\n",
              "      flex-wrap:wrap;\n",
              "      gap: 12px;\n",
              "    }\n",
              "\n",
              "    .colab-df-convert {\n",
              "      background-color: #E8F0FE;\n",
              "      border: none;\n",
              "      border-radius: 50%;\n",
              "      cursor: pointer;\n",
              "      display: none;\n",
              "      fill: #1967D2;\n",
              "      height: 32px;\n",
              "      padding: 0 0 0 0;\n",
              "      width: 32px;\n",
              "    }\n",
              "\n",
              "    .colab-df-convert:hover {\n",
              "      background-color: #E2EBFA;\n",
              "      box-shadow: 0px 1px 2px rgba(60, 64, 67, 0.3), 0px 1px 3px 1px rgba(60, 64, 67, 0.15);\n",
              "      fill: #174EA6;\n",
              "    }\n",
              "\n",
              "    [theme=dark] .colab-df-convert {\n",
              "      background-color: #3B4455;\n",
              "      fill: #D2E3FC;\n",
              "    }\n",
              "\n",
              "    [theme=dark] .colab-df-convert:hover {\n",
              "      background-color: #434B5C;\n",
              "      box-shadow: 0px 1px 3px 1px rgba(0, 0, 0, 0.15);\n",
              "      filter: drop-shadow(0px 1px 2px rgba(0, 0, 0, 0.3));\n",
              "      fill: #FFFFFF;\n",
              "    }\n",
              "  </style>\n",
              "\n",
              "      <script>\n",
              "        const buttonEl =\n",
              "          document.querySelector('#df-deeebed5-190f-4a8b-93c4-5fe22c631402 button.colab-df-convert');\n",
              "        buttonEl.style.display =\n",
              "          google.colab.kernel.accessAllowed ? 'block' : 'none';\n",
              "\n",
              "        async function convertToInteractive(key) {\n",
              "          const element = document.querySelector('#df-deeebed5-190f-4a8b-93c4-5fe22c631402');\n",
              "          const dataTable =\n",
              "            await google.colab.kernel.invokeFunction('convertToInteractive',\n",
              "                                                     [key], {});\n",
              "          if (!dataTable) return;\n",
              "\n",
              "          const docLinkHtml = 'Like what you see? Visit the ' +\n",
              "            '<a target=\"_blank\" href=https://colab.research.google.com/notebooks/data_table.ipynb>data table notebook</a>'\n",
              "            + ' to learn more about interactive tables.';\n",
              "          element.innerHTML = '';\n",
              "          dataTable['output_type'] = 'display_data';\n",
              "          await google.colab.output.renderOutput(dataTable, element);\n",
              "          const docLink = document.createElement('div');\n",
              "          docLink.innerHTML = docLinkHtml;\n",
              "          element.appendChild(docLink);\n",
              "        }\n",
              "      </script>\n",
              "    </div>\n",
              "  </div>\n",
              "  "
            ]
          },
          "metadata": {},
          "execution_count": 14
        }
      ]
    },
    {
      "cell_type": "code",
      "source": [
        "#renomenando colunas de inglês para portugues\n",
        "dforiginal.rename(columns={'Year_Birth': 'Nascimento', \n",
        "                           'Education': 'Escolaridade',\n",
        "                           'Marital_Status':'Estado_Civil',\n",
        "                           'Income':'Renda',\n",
        "                           'Kidhome':'Dependentes_crianças',\n",
        "                           'Teenhome':'Dependentes_adolescentes',\n",
        "                           'Dt_Customer':'Data_cadastro',\n",
        "                           'MntWines':'Gasto_em_vinho',\n",
        "                           'MntFruits':'Gasto_em_frutas',\n",
        "                           'MntMeatProducts':'Gasto_em_carnes',\n",
        "                           'MntFishProducts':'Gasto_em_peixe',\n",
        "                           'MntSweetProducts':'Gasto_em_doces',\n",
        "                           'MntGoldProds':'Gasto_em_ouro',\n",
        "                           'NumDealsPurchases':'Compras_negociadas',\n",
        "                           'NumWebPurchases':'Compras_website',\n",
        "                           'NumCatalogPurchases':'Compras_por_catálogo',\n",
        "                           'NumStorePurchases':'Compras_loja',\n",
        "                           'NumWebVisitsMonth': 'Número_visitas_mês',\n",
        "                           'Complain':'Reclamação',\n",
        "                           'Response':'Aceitação'\n",
        "                           }, inplace=True)"
      ],
      "metadata": {
        "id": "OpUYLJTrVpwY"
      },
      "execution_count": null,
      "outputs": []
    },
    {
      "cell_type": "code",
      "source": [
        "#traduzindo o estado civil\n",
        "dforiginal['Estado_Civil'].replace({'Alone':'Soteiro(a)',\n",
        "                                    'Absurd':'Soteiro(a)',\n",
        "                                    'YOLO':'Soteiro(a)',\n",
        "                                    'Single':'Soteiro(a)',\n",
        "                                    'Together':'União Estável',\n",
        "                                    'Married':'Casado(a)',\n",
        "                                    'Divorced':'Divorciado(a)',\n",
        "                                    'Widow':'Viúvo(a)'\n",
        "                                    }, inplace=True)"
      ],
      "metadata": {
        "id": "ec6uk4PEX4kp"
      },
      "execution_count": null,
      "outputs": []
    },
    {
      "cell_type": "code",
      "source": [
        "#traduzindo o nível de escolaridade (usando sintaxe diferente somente para a prática)\n",
        "dforiginal.replace(to_replace = '2n Cycle', value = 'Licenciatura/Magistrato', inplace=True)\n",
        "dforiginal.replace(to_replace = 'Basic', value = 'Nível Fundamental', inplace=True)\n",
        "dforiginal.replace(to_replace = 'Graduation', value = 'Graduação', inplace=True)\n",
        "dforiginal.replace(to_replace = 'PhD', value = 'Doutorado', inplace=True)\n",
        "dforiginal.replace(to_replace = 'Master', value = 'Mestrado', inplace=True)"
      ],
      "metadata": {
        "id": "H2xIBHHJlxcp"
      },
      "execution_count": null,
      "outputs": []
    },
    {
      "cell_type": "code",
      "source": [
        "#trocando os resultados boleanos de números para sim ou não\n",
        "dforiginal['Aceitação'].replace({0:'Não', 1: 'Sim'}, inplace=True)"
      ],
      "metadata": {
        "id": "0MVUUSF6obl6"
      },
      "execution_count": null,
      "outputs": []
    },
    {
      "cell_type": "code",
      "source": [
        "#fazendo nova análise\n",
        "dforiginal.head(1)"
      ],
      "metadata": {
        "id": "yvv_P_QwhJSR",
        "colab": {
          "base_uri": "https://localhost:8080/",
          "height": 145
        },
        "outputId": "5d2fa3e3-6c9d-41b7-dbff-ca14ffe1c442"
      },
      "execution_count": null,
      "outputs": [
        {
          "output_type": "execute_result",
          "data": {
            "text/plain": [
              "                        _id    ID  Nascimento Escolaridade Estado_Civil  \\\n",
              "0  62913d3ac36c21139f74240e  5524        1957    Graduação   Soteiro(a)   \n",
              "\n",
              "     Renda  Dependentes_crianças  Dependentes_adolescentes Data_cadastro  \\\n",
              "0  58138.0                     0                         0    2012-09-04   \n",
              "\n",
              "   Recency  Gasto_em_vinho  Gasto_em_frutas  Gasto_em_carnes  Gasto_em_peixe  \\\n",
              "0       58             635               88              546             172   \n",
              "\n",
              "   Gasto_em_doces  Gasto_em_ouro  Compras_negociadas  Compras_website  \\\n",
              "0              88             88                   3                8   \n",
              "\n",
              "   Compras_por_catálogo  Compras_loja  Número_visitas_mês  AcceptedCmp3  \\\n",
              "0                    10             4                   7             0   \n",
              "\n",
              "   AcceptedCmp4  AcceptedCmp5  AcceptedCmp1  AcceptedCmp2  Reclamação  \\\n",
              "0             0             0             0             0           0   \n",
              "\n",
              "   Z_CostContact  Z_Revenue Aceitação  \n",
              "0              3         11       Sim  "
            ],
            "text/html": [
              "\n",
              "  <div id=\"df-fba5bb6d-64da-4bbc-9ba4-66ed8a9de309\">\n",
              "    <div class=\"colab-df-container\">\n",
              "      <div>\n",
              "<style scoped>\n",
              "    .dataframe tbody tr th:only-of-type {\n",
              "        vertical-align: middle;\n",
              "    }\n",
              "\n",
              "    .dataframe tbody tr th {\n",
              "        vertical-align: top;\n",
              "    }\n",
              "\n",
              "    .dataframe thead th {\n",
              "        text-align: right;\n",
              "    }\n",
              "</style>\n",
              "<table border=\"1\" class=\"dataframe\">\n",
              "  <thead>\n",
              "    <tr style=\"text-align: right;\">\n",
              "      <th></th>\n",
              "      <th>_id</th>\n",
              "      <th>ID</th>\n",
              "      <th>Nascimento</th>\n",
              "      <th>Escolaridade</th>\n",
              "      <th>Estado_Civil</th>\n",
              "      <th>Renda</th>\n",
              "      <th>Dependentes_crianças</th>\n",
              "      <th>Dependentes_adolescentes</th>\n",
              "      <th>Data_cadastro</th>\n",
              "      <th>Recency</th>\n",
              "      <th>Gasto_em_vinho</th>\n",
              "      <th>Gasto_em_frutas</th>\n",
              "      <th>Gasto_em_carnes</th>\n",
              "      <th>Gasto_em_peixe</th>\n",
              "      <th>Gasto_em_doces</th>\n",
              "      <th>Gasto_em_ouro</th>\n",
              "      <th>Compras_negociadas</th>\n",
              "      <th>Compras_website</th>\n",
              "      <th>Compras_por_catálogo</th>\n",
              "      <th>Compras_loja</th>\n",
              "      <th>Número_visitas_mês</th>\n",
              "      <th>AcceptedCmp3</th>\n",
              "      <th>AcceptedCmp4</th>\n",
              "      <th>AcceptedCmp5</th>\n",
              "      <th>AcceptedCmp1</th>\n",
              "      <th>AcceptedCmp2</th>\n",
              "      <th>Reclamação</th>\n",
              "      <th>Z_CostContact</th>\n",
              "      <th>Z_Revenue</th>\n",
              "      <th>Aceitação</th>\n",
              "    </tr>\n",
              "  </thead>\n",
              "  <tbody>\n",
              "    <tr>\n",
              "      <th>0</th>\n",
              "      <td>62913d3ac36c21139f74240e</td>\n",
              "      <td>5524</td>\n",
              "      <td>1957</td>\n",
              "      <td>Graduação</td>\n",
              "      <td>Soteiro(a)</td>\n",
              "      <td>58138.0</td>\n",
              "      <td>0</td>\n",
              "      <td>0</td>\n",
              "      <td>2012-09-04</td>\n",
              "      <td>58</td>\n",
              "      <td>635</td>\n",
              "      <td>88</td>\n",
              "      <td>546</td>\n",
              "      <td>172</td>\n",
              "      <td>88</td>\n",
              "      <td>88</td>\n",
              "      <td>3</td>\n",
              "      <td>8</td>\n",
              "      <td>10</td>\n",
              "      <td>4</td>\n",
              "      <td>7</td>\n",
              "      <td>0</td>\n",
              "      <td>0</td>\n",
              "      <td>0</td>\n",
              "      <td>0</td>\n",
              "      <td>0</td>\n",
              "      <td>0</td>\n",
              "      <td>3</td>\n",
              "      <td>11</td>\n",
              "      <td>Sim</td>\n",
              "    </tr>\n",
              "  </tbody>\n",
              "</table>\n",
              "</div>\n",
              "      <button class=\"colab-df-convert\" onclick=\"convertToInteractive('df-fba5bb6d-64da-4bbc-9ba4-66ed8a9de309')\"\n",
              "              title=\"Convert this dataframe to an interactive table.\"\n",
              "              style=\"display:none;\">\n",
              "        \n",
              "  <svg xmlns=\"http://www.w3.org/2000/svg\" height=\"24px\"viewBox=\"0 0 24 24\"\n",
              "       width=\"24px\">\n",
              "    <path d=\"M0 0h24v24H0V0z\" fill=\"none\"/>\n",
              "    <path d=\"M18.56 5.44l.94 2.06.94-2.06 2.06-.94-2.06-.94-.94-2.06-.94 2.06-2.06.94zm-11 1L8.5 8.5l.94-2.06 2.06-.94-2.06-.94L8.5 2.5l-.94 2.06-2.06.94zm10 10l.94 2.06.94-2.06 2.06-.94-2.06-.94-.94-2.06-.94 2.06-2.06.94z\"/><path d=\"M17.41 7.96l-1.37-1.37c-.4-.4-.92-.59-1.43-.59-.52 0-1.04.2-1.43.59L10.3 9.45l-7.72 7.72c-.78.78-.78 2.05 0 2.83L4 21.41c.39.39.9.59 1.41.59.51 0 1.02-.2 1.41-.59l7.78-7.78 2.81-2.81c.8-.78.8-2.07 0-2.86zM5.41 20L4 18.59l7.72-7.72 1.47 1.35L5.41 20z\"/>\n",
              "  </svg>\n",
              "      </button>\n",
              "      \n",
              "  <style>\n",
              "    .colab-df-container {\n",
              "      display:flex;\n",
              "      flex-wrap:wrap;\n",
              "      gap: 12px;\n",
              "    }\n",
              "\n",
              "    .colab-df-convert {\n",
              "      background-color: #E8F0FE;\n",
              "      border: none;\n",
              "      border-radius: 50%;\n",
              "      cursor: pointer;\n",
              "      display: none;\n",
              "      fill: #1967D2;\n",
              "      height: 32px;\n",
              "      padding: 0 0 0 0;\n",
              "      width: 32px;\n",
              "    }\n",
              "\n",
              "    .colab-df-convert:hover {\n",
              "      background-color: #E2EBFA;\n",
              "      box-shadow: 0px 1px 2px rgba(60, 64, 67, 0.3), 0px 1px 3px 1px rgba(60, 64, 67, 0.15);\n",
              "      fill: #174EA6;\n",
              "    }\n",
              "\n",
              "    [theme=dark] .colab-df-convert {\n",
              "      background-color: #3B4455;\n",
              "      fill: #D2E3FC;\n",
              "    }\n",
              "\n",
              "    [theme=dark] .colab-df-convert:hover {\n",
              "      background-color: #434B5C;\n",
              "      box-shadow: 0px 1px 3px 1px rgba(0, 0, 0, 0.15);\n",
              "      filter: drop-shadow(0px 1px 2px rgba(0, 0, 0, 0.3));\n",
              "      fill: #FFFFFF;\n",
              "    }\n",
              "  </style>\n",
              "\n",
              "      <script>\n",
              "        const buttonEl =\n",
              "          document.querySelector('#df-fba5bb6d-64da-4bbc-9ba4-66ed8a9de309 button.colab-df-convert');\n",
              "        buttonEl.style.display =\n",
              "          google.colab.kernel.accessAllowed ? 'block' : 'none';\n",
              "\n",
              "        async function convertToInteractive(key) {\n",
              "          const element = document.querySelector('#df-fba5bb6d-64da-4bbc-9ba4-66ed8a9de309');\n",
              "          const dataTable =\n",
              "            await google.colab.kernel.invokeFunction('convertToInteractive',\n",
              "                                                     [key], {});\n",
              "          if (!dataTable) return;\n",
              "\n",
              "          const docLinkHtml = 'Like what you see? Visit the ' +\n",
              "            '<a target=\"_blank\" href=https://colab.research.google.com/notebooks/data_table.ipynb>data table notebook</a>'\n",
              "            + ' to learn more about interactive tables.';\n",
              "          element.innerHTML = '';\n",
              "          dataTable['output_type'] = 'display_data';\n",
              "          await google.colab.output.renderOutput(dataTable, element);\n",
              "          const docLink = document.createElement('div');\n",
              "          docLink.innerHTML = docLinkHtml;\n",
              "          element.appendChild(docLink);\n",
              "        }\n",
              "      </script>\n",
              "    </div>\n",
              "  </div>\n",
              "  "
            ]
          },
          "metadata": {},
          "execution_count": 19
        }
      ]
    },
    {
      "cell_type": "code",
      "source": [
        "#dropando colunas que não servirão para posterior insights\n",
        "dforiginal.drop(['_id','Recency','AcceptedCmp3','AcceptedCmp4','AcceptedCmp5','AcceptedCmp1','AcceptedCmp2','Z_CostContact','Z_Revenue'],axis=1,inplace=True)"
      ],
      "metadata": {
        "id": "VhsbZdPUhcb_"
      },
      "execution_count": null,
      "outputs": []
    },
    {
      "cell_type": "code",
      "source": [
        "#transformando coluna data em Date\n",
        "dforiginal.Data_cadastro = pd.to_datetime(dforiginal.Data_cadastro)"
      ],
      "metadata": {
        "id": "MnLftA6JjYzR"
      },
      "execution_count": null,
      "outputs": []
    },
    {
      "cell_type": "code",
      "source": [
        "#conferindo tipos de dados do dataframe\n",
        "dforiginal.dtypes"
      ],
      "metadata": {
        "id": "-gsayzncncY5",
        "colab": {
          "base_uri": "https://localhost:8080/"
        },
        "outputId": "f63ad53d-972a-45ed-c119-91a51c907b6f"
      },
      "execution_count": null,
      "outputs": [
        {
          "output_type": "execute_result",
          "data": {
            "text/plain": [
              "ID                                   int64\n",
              "Nascimento                           int64\n",
              "Escolaridade                        object\n",
              "Estado_Civil                        object\n",
              "Renda                              float64\n",
              "Dependentes_crianças                 int64\n",
              "Dependentes_adolescentes             int64\n",
              "Data_cadastro               datetime64[ns]\n",
              "Gasto_em_vinho                       int64\n",
              "Gasto_em_frutas                      int64\n",
              "Gasto_em_carnes                      int64\n",
              "Gasto_em_peixe                       int64\n",
              "Gasto_em_doces                       int64\n",
              "Gasto_em_ouro                        int64\n",
              "Compras_negociadas                   int64\n",
              "Compras_website                      int64\n",
              "Compras_por_catálogo                 int64\n",
              "Compras_loja                         int64\n",
              "Número_visitas_mês                   int64\n",
              "Reclamação                           int64\n",
              "Aceitação                           object\n",
              "dtype: object"
            ]
          },
          "metadata": {},
          "execution_count": 22
        }
      ]
    },
    {
      "cell_type": "code",
      "source": [
        "#contando valores nulos\n",
        "dforiginal.isnull().sum()"
      ],
      "metadata": {
        "id": "naLvoQv7kNlv",
        "colab": {
          "base_uri": "https://localhost:8080/"
        },
        "outputId": "eb8b8a1c-e15c-4aa0-f686-6d1077ee746a"
      },
      "execution_count": null,
      "outputs": [
        {
          "output_type": "execute_result",
          "data": {
            "text/plain": [
              "ID                           0\n",
              "Nascimento                   0\n",
              "Escolaridade                 0\n",
              "Estado_Civil                 0\n",
              "Renda                       24\n",
              "Dependentes_crianças         0\n",
              "Dependentes_adolescentes     0\n",
              "Data_cadastro                0\n",
              "Gasto_em_vinho               0\n",
              "Gasto_em_frutas              0\n",
              "Gasto_em_carnes              0\n",
              "Gasto_em_peixe               0\n",
              "Gasto_em_doces               0\n",
              "Gasto_em_ouro                0\n",
              "Compras_negociadas           0\n",
              "Compras_website              0\n",
              "Compras_por_catálogo         0\n",
              "Compras_loja                 0\n",
              "Número_visitas_mês           0\n",
              "Reclamação                   0\n",
              "Aceitação                    0\n",
              "dtype: int64"
            ]
          },
          "metadata": {},
          "execution_count": 23
        }
      ]
    },
    {
      "cell_type": "code",
      "source": [
        "#preenchendo valores nulos da coluna Renda com a média\n",
        "dforiginal['Renda'].fillna(float(dforiginal['Renda'].mean()), inplace=True)"
      ],
      "metadata": {
        "id": "oUiq4QkQfjs6"
      },
      "execution_count": null,
      "outputs": []
    },
    {
      "cell_type": "code",
      "source": [
        "#reduzindo os números depois da vírgula(os números com a média ficavam com 5 digitos após a vírgula)\n",
        "dforiginal = dforiginal.round({\"Renda\":2})"
      ],
      "metadata": {
        "id": "RkylMTGqh51x"
      },
      "execution_count": null,
      "outputs": []
    },
    {
      "cell_type": "code",
      "source": [
        "#conferencia final\n",
        "dforiginal.head(10)"
      ],
      "metadata": {
        "id": "-Rb0ZVQ7iObZ",
        "colab": {
          "base_uri": "https://localhost:8080/",
          "height": 427
        },
        "outputId": "d42690e5-220d-4aac-f47c-cf424a90d3ad"
      },
      "execution_count": null,
      "outputs": [
        {
          "output_type": "execute_result",
          "data": {
            "text/plain": [
              "      ID  Nascimento             Escolaridade   Estado_Civil    Renda  \\\n",
              "0   5524        1957                Graduação     Soteiro(a)  58138.0   \n",
              "1   2174        1954                Graduação     Soteiro(a)  46344.0   \n",
              "2   5324        1981                Doutorado      Casado(a)  58293.0   \n",
              "3   8180        1952                 Mestrado  Divorciado(a)  59354.0   \n",
              "4   2114        1946                Doutorado     Soteiro(a)  82800.0   \n",
              "5   9736        1980                Graduação      Casado(a)  41850.0   \n",
              "6   6565        1949                 Mestrado      Casado(a)  76995.0   \n",
              "7   7892        1969                Graduação     Soteiro(a)  18589.0   \n",
              "8  10755        1976  Licenciatura/Magistrato      Casado(a)  23718.0   \n",
              "9   8595        1973                Graduação       Viúvo(a)  42429.0   \n",
              "\n",
              "   Dependentes_crianças  Dependentes_adolescentes Data_cadastro  \\\n",
              "0                     0                         0    2012-09-04   \n",
              "1                     1                         1    2014-03-08   \n",
              "2                     1                         0    2014-01-19   \n",
              "3                     1                         1    2013-11-15   \n",
              "4                     0                         0    2012-11-24   \n",
              "5                     1                         1    2012-12-24   \n",
              "6                     0                         1    2013-03-28   \n",
              "7                     0                         0    2013-01-02   \n",
              "8                     1                         0    2013-09-02   \n",
              "9                     0                         1    2014-02-11   \n",
              "\n",
              "   Gasto_em_vinho  Gasto_em_frutas  Gasto_em_carnes  Gasto_em_peixe  \\\n",
              "0             635               88              546             172   \n",
              "1              11                1                6               2   \n",
              "2             173               43              118              46   \n",
              "3             233                2               53               3   \n",
              "4            1006               22              115              59   \n",
              "5              53                5               19               2   \n",
              "6            1012               80              498               0   \n",
              "7               6                4               25              15   \n",
              "8               6                3               14              15   \n",
              "9              55                0                6               2   \n",
              "\n",
              "   Gasto_em_doces  Gasto_em_ouro  Compras_negociadas  Compras_website  \\\n",
              "0              88             88                   3                8   \n",
              "1               1              6                   2                1   \n",
              "2              27             15                   5                5   \n",
              "3               5             14                   3                6   \n",
              "4              68             45                   1                7   \n",
              "5              13              4                   3                3   \n",
              "6              16            176                   2               11   \n",
              "7              12             13                   2                2   \n",
              "8               7             36                   3                3   \n",
              "9               0              4                   2                1   \n",
              "\n",
              "   Compras_por_catálogo  Compras_loja  Número_visitas_mês  Reclamação  \\\n",
              "0                    10             4                   7           0   \n",
              "1                     1             2                   5           0   \n",
              "2                     3             6                   5           0   \n",
              "3                     1             5                   6           0   \n",
              "4                     6            12                   3           0   \n",
              "5                     0             3                   8           0   \n",
              "6                     4             9                   5           0   \n",
              "7                     1             3                   7           0   \n",
              "8                     1             2                   7           0   \n",
              "9                     1             3                   5           0   \n",
              "\n",
              "  Aceitação  \n",
              "0       Sim  \n",
              "1       Não  \n",
              "2       Não  \n",
              "3       Não  \n",
              "4       Sim  \n",
              "5       Não  \n",
              "6       Não  \n",
              "7       Não  \n",
              "8       Não  \n",
              "9       Não  "
            ],
            "text/html": [
              "\n",
              "  <div id=\"df-17071e0e-3c19-4459-94f3-383f429c07f6\">\n",
              "    <div class=\"colab-df-container\">\n",
              "      <div>\n",
              "<style scoped>\n",
              "    .dataframe tbody tr th:only-of-type {\n",
              "        vertical-align: middle;\n",
              "    }\n",
              "\n",
              "    .dataframe tbody tr th {\n",
              "        vertical-align: top;\n",
              "    }\n",
              "\n",
              "    .dataframe thead th {\n",
              "        text-align: right;\n",
              "    }\n",
              "</style>\n",
              "<table border=\"1\" class=\"dataframe\">\n",
              "  <thead>\n",
              "    <tr style=\"text-align: right;\">\n",
              "      <th></th>\n",
              "      <th>ID</th>\n",
              "      <th>Nascimento</th>\n",
              "      <th>Escolaridade</th>\n",
              "      <th>Estado_Civil</th>\n",
              "      <th>Renda</th>\n",
              "      <th>Dependentes_crianças</th>\n",
              "      <th>Dependentes_adolescentes</th>\n",
              "      <th>Data_cadastro</th>\n",
              "      <th>Gasto_em_vinho</th>\n",
              "      <th>Gasto_em_frutas</th>\n",
              "      <th>Gasto_em_carnes</th>\n",
              "      <th>Gasto_em_peixe</th>\n",
              "      <th>Gasto_em_doces</th>\n",
              "      <th>Gasto_em_ouro</th>\n",
              "      <th>Compras_negociadas</th>\n",
              "      <th>Compras_website</th>\n",
              "      <th>Compras_por_catálogo</th>\n",
              "      <th>Compras_loja</th>\n",
              "      <th>Número_visitas_mês</th>\n",
              "      <th>Reclamação</th>\n",
              "      <th>Aceitação</th>\n",
              "    </tr>\n",
              "  </thead>\n",
              "  <tbody>\n",
              "    <tr>\n",
              "      <th>0</th>\n",
              "      <td>5524</td>\n",
              "      <td>1957</td>\n",
              "      <td>Graduação</td>\n",
              "      <td>Soteiro(a)</td>\n",
              "      <td>58138.0</td>\n",
              "      <td>0</td>\n",
              "      <td>0</td>\n",
              "      <td>2012-09-04</td>\n",
              "      <td>635</td>\n",
              "      <td>88</td>\n",
              "      <td>546</td>\n",
              "      <td>172</td>\n",
              "      <td>88</td>\n",
              "      <td>88</td>\n",
              "      <td>3</td>\n",
              "      <td>8</td>\n",
              "      <td>10</td>\n",
              "      <td>4</td>\n",
              "      <td>7</td>\n",
              "      <td>0</td>\n",
              "      <td>Sim</td>\n",
              "    </tr>\n",
              "    <tr>\n",
              "      <th>1</th>\n",
              "      <td>2174</td>\n",
              "      <td>1954</td>\n",
              "      <td>Graduação</td>\n",
              "      <td>Soteiro(a)</td>\n",
              "      <td>46344.0</td>\n",
              "      <td>1</td>\n",
              "      <td>1</td>\n",
              "      <td>2014-03-08</td>\n",
              "      <td>11</td>\n",
              "      <td>1</td>\n",
              "      <td>6</td>\n",
              "      <td>2</td>\n",
              "      <td>1</td>\n",
              "      <td>6</td>\n",
              "      <td>2</td>\n",
              "      <td>1</td>\n",
              "      <td>1</td>\n",
              "      <td>2</td>\n",
              "      <td>5</td>\n",
              "      <td>0</td>\n",
              "      <td>Não</td>\n",
              "    </tr>\n",
              "    <tr>\n",
              "      <th>2</th>\n",
              "      <td>5324</td>\n",
              "      <td>1981</td>\n",
              "      <td>Doutorado</td>\n",
              "      <td>Casado(a)</td>\n",
              "      <td>58293.0</td>\n",
              "      <td>1</td>\n",
              "      <td>0</td>\n",
              "      <td>2014-01-19</td>\n",
              "      <td>173</td>\n",
              "      <td>43</td>\n",
              "      <td>118</td>\n",
              "      <td>46</td>\n",
              "      <td>27</td>\n",
              "      <td>15</td>\n",
              "      <td>5</td>\n",
              "      <td>5</td>\n",
              "      <td>3</td>\n",
              "      <td>6</td>\n",
              "      <td>5</td>\n",
              "      <td>0</td>\n",
              "      <td>Não</td>\n",
              "    </tr>\n",
              "    <tr>\n",
              "      <th>3</th>\n",
              "      <td>8180</td>\n",
              "      <td>1952</td>\n",
              "      <td>Mestrado</td>\n",
              "      <td>Divorciado(a)</td>\n",
              "      <td>59354.0</td>\n",
              "      <td>1</td>\n",
              "      <td>1</td>\n",
              "      <td>2013-11-15</td>\n",
              "      <td>233</td>\n",
              "      <td>2</td>\n",
              "      <td>53</td>\n",
              "      <td>3</td>\n",
              "      <td>5</td>\n",
              "      <td>14</td>\n",
              "      <td>3</td>\n",
              "      <td>6</td>\n",
              "      <td>1</td>\n",
              "      <td>5</td>\n",
              "      <td>6</td>\n",
              "      <td>0</td>\n",
              "      <td>Não</td>\n",
              "    </tr>\n",
              "    <tr>\n",
              "      <th>4</th>\n",
              "      <td>2114</td>\n",
              "      <td>1946</td>\n",
              "      <td>Doutorado</td>\n",
              "      <td>Soteiro(a)</td>\n",
              "      <td>82800.0</td>\n",
              "      <td>0</td>\n",
              "      <td>0</td>\n",
              "      <td>2012-11-24</td>\n",
              "      <td>1006</td>\n",
              "      <td>22</td>\n",
              "      <td>115</td>\n",
              "      <td>59</td>\n",
              "      <td>68</td>\n",
              "      <td>45</td>\n",
              "      <td>1</td>\n",
              "      <td>7</td>\n",
              "      <td>6</td>\n",
              "      <td>12</td>\n",
              "      <td>3</td>\n",
              "      <td>0</td>\n",
              "      <td>Sim</td>\n",
              "    </tr>\n",
              "    <tr>\n",
              "      <th>5</th>\n",
              "      <td>9736</td>\n",
              "      <td>1980</td>\n",
              "      <td>Graduação</td>\n",
              "      <td>Casado(a)</td>\n",
              "      <td>41850.0</td>\n",
              "      <td>1</td>\n",
              "      <td>1</td>\n",
              "      <td>2012-12-24</td>\n",
              "      <td>53</td>\n",
              "      <td>5</td>\n",
              "      <td>19</td>\n",
              "      <td>2</td>\n",
              "      <td>13</td>\n",
              "      <td>4</td>\n",
              "      <td>3</td>\n",
              "      <td>3</td>\n",
              "      <td>0</td>\n",
              "      <td>3</td>\n",
              "      <td>8</td>\n",
              "      <td>0</td>\n",
              "      <td>Não</td>\n",
              "    </tr>\n",
              "    <tr>\n",
              "      <th>6</th>\n",
              "      <td>6565</td>\n",
              "      <td>1949</td>\n",
              "      <td>Mestrado</td>\n",
              "      <td>Casado(a)</td>\n",
              "      <td>76995.0</td>\n",
              "      <td>0</td>\n",
              "      <td>1</td>\n",
              "      <td>2013-03-28</td>\n",
              "      <td>1012</td>\n",
              "      <td>80</td>\n",
              "      <td>498</td>\n",
              "      <td>0</td>\n",
              "      <td>16</td>\n",
              "      <td>176</td>\n",
              "      <td>2</td>\n",
              "      <td>11</td>\n",
              "      <td>4</td>\n",
              "      <td>9</td>\n",
              "      <td>5</td>\n",
              "      <td>0</td>\n",
              "      <td>Não</td>\n",
              "    </tr>\n",
              "    <tr>\n",
              "      <th>7</th>\n",
              "      <td>7892</td>\n",
              "      <td>1969</td>\n",
              "      <td>Graduação</td>\n",
              "      <td>Soteiro(a)</td>\n",
              "      <td>18589.0</td>\n",
              "      <td>0</td>\n",
              "      <td>0</td>\n",
              "      <td>2013-01-02</td>\n",
              "      <td>6</td>\n",
              "      <td>4</td>\n",
              "      <td>25</td>\n",
              "      <td>15</td>\n",
              "      <td>12</td>\n",
              "      <td>13</td>\n",
              "      <td>2</td>\n",
              "      <td>2</td>\n",
              "      <td>1</td>\n",
              "      <td>3</td>\n",
              "      <td>7</td>\n",
              "      <td>0</td>\n",
              "      <td>Não</td>\n",
              "    </tr>\n",
              "    <tr>\n",
              "      <th>8</th>\n",
              "      <td>10755</td>\n",
              "      <td>1976</td>\n",
              "      <td>Licenciatura/Magistrato</td>\n",
              "      <td>Casado(a)</td>\n",
              "      <td>23718.0</td>\n",
              "      <td>1</td>\n",
              "      <td>0</td>\n",
              "      <td>2013-09-02</td>\n",
              "      <td>6</td>\n",
              "      <td>3</td>\n",
              "      <td>14</td>\n",
              "      <td>15</td>\n",
              "      <td>7</td>\n",
              "      <td>36</td>\n",
              "      <td>3</td>\n",
              "      <td>3</td>\n",
              "      <td>1</td>\n",
              "      <td>2</td>\n",
              "      <td>7</td>\n",
              "      <td>0</td>\n",
              "      <td>Não</td>\n",
              "    </tr>\n",
              "    <tr>\n",
              "      <th>9</th>\n",
              "      <td>8595</td>\n",
              "      <td>1973</td>\n",
              "      <td>Graduação</td>\n",
              "      <td>Viúvo(a)</td>\n",
              "      <td>42429.0</td>\n",
              "      <td>0</td>\n",
              "      <td>1</td>\n",
              "      <td>2014-02-11</td>\n",
              "      <td>55</td>\n",
              "      <td>0</td>\n",
              "      <td>6</td>\n",
              "      <td>2</td>\n",
              "      <td>0</td>\n",
              "      <td>4</td>\n",
              "      <td>2</td>\n",
              "      <td>1</td>\n",
              "      <td>1</td>\n",
              "      <td>3</td>\n",
              "      <td>5</td>\n",
              "      <td>0</td>\n",
              "      <td>Não</td>\n",
              "    </tr>\n",
              "  </tbody>\n",
              "</table>\n",
              "</div>\n",
              "      <button class=\"colab-df-convert\" onclick=\"convertToInteractive('df-17071e0e-3c19-4459-94f3-383f429c07f6')\"\n",
              "              title=\"Convert this dataframe to an interactive table.\"\n",
              "              style=\"display:none;\">\n",
              "        \n",
              "  <svg xmlns=\"http://www.w3.org/2000/svg\" height=\"24px\"viewBox=\"0 0 24 24\"\n",
              "       width=\"24px\">\n",
              "    <path d=\"M0 0h24v24H0V0z\" fill=\"none\"/>\n",
              "    <path d=\"M18.56 5.44l.94 2.06.94-2.06 2.06-.94-2.06-.94-.94-2.06-.94 2.06-2.06.94zm-11 1L8.5 8.5l.94-2.06 2.06-.94-2.06-.94L8.5 2.5l-.94 2.06-2.06.94zm10 10l.94 2.06.94-2.06 2.06-.94-2.06-.94-.94-2.06-.94 2.06-2.06.94z\"/><path d=\"M17.41 7.96l-1.37-1.37c-.4-.4-.92-.59-1.43-.59-.52 0-1.04.2-1.43.59L10.3 9.45l-7.72 7.72c-.78.78-.78 2.05 0 2.83L4 21.41c.39.39.9.59 1.41.59.51 0 1.02-.2 1.41-.59l7.78-7.78 2.81-2.81c.8-.78.8-2.07 0-2.86zM5.41 20L4 18.59l7.72-7.72 1.47 1.35L5.41 20z\"/>\n",
              "  </svg>\n",
              "      </button>\n",
              "      \n",
              "  <style>\n",
              "    .colab-df-container {\n",
              "      display:flex;\n",
              "      flex-wrap:wrap;\n",
              "      gap: 12px;\n",
              "    }\n",
              "\n",
              "    .colab-df-convert {\n",
              "      background-color: #E8F0FE;\n",
              "      border: none;\n",
              "      border-radius: 50%;\n",
              "      cursor: pointer;\n",
              "      display: none;\n",
              "      fill: #1967D2;\n",
              "      height: 32px;\n",
              "      padding: 0 0 0 0;\n",
              "      width: 32px;\n",
              "    }\n",
              "\n",
              "    .colab-df-convert:hover {\n",
              "      background-color: #E2EBFA;\n",
              "      box-shadow: 0px 1px 2px rgba(60, 64, 67, 0.3), 0px 1px 3px 1px rgba(60, 64, 67, 0.15);\n",
              "      fill: #174EA6;\n",
              "    }\n",
              "\n",
              "    [theme=dark] .colab-df-convert {\n",
              "      background-color: #3B4455;\n",
              "      fill: #D2E3FC;\n",
              "    }\n",
              "\n",
              "    [theme=dark] .colab-df-convert:hover {\n",
              "      background-color: #434B5C;\n",
              "      box-shadow: 0px 1px 3px 1px rgba(0, 0, 0, 0.15);\n",
              "      filter: drop-shadow(0px 1px 2px rgba(0, 0, 0, 0.3));\n",
              "      fill: #FFFFFF;\n",
              "    }\n",
              "  </style>\n",
              "\n",
              "      <script>\n",
              "        const buttonEl =\n",
              "          document.querySelector('#df-17071e0e-3c19-4459-94f3-383f429c07f6 button.colab-df-convert');\n",
              "        buttonEl.style.display =\n",
              "          google.colab.kernel.accessAllowed ? 'block' : 'none';\n",
              "\n",
              "        async function convertToInteractive(key) {\n",
              "          const element = document.querySelector('#df-17071e0e-3c19-4459-94f3-383f429c07f6');\n",
              "          const dataTable =\n",
              "            await google.colab.kernel.invokeFunction('convertToInteractive',\n",
              "                                                     [key], {});\n",
              "          if (!dataTable) return;\n",
              "\n",
              "          const docLinkHtml = 'Like what you see? Visit the ' +\n",
              "            '<a target=\"_blank\" href=https://colab.research.google.com/notebooks/data_table.ipynb>data table notebook</a>'\n",
              "            + ' to learn more about interactive tables.';\n",
              "          element.innerHTML = '';\n",
              "          dataTable['output_type'] = 'display_data';\n",
              "          await google.colab.output.renderOutput(dataTable, element);\n",
              "          const docLink = document.createElement('div');\n",
              "          docLink.innerHTML = docLinkHtml;\n",
              "          element.appendChild(docLink);\n",
              "        }\n",
              "      </script>\n",
              "    </div>\n",
              "  </div>\n",
              "  "
            ]
          },
          "metadata": {},
          "execution_count": 26
        }
      ]
    },
    {
      "cell_type": "code",
      "source": [
        "#salvando dataframe pré-tratado em csv no bucket\n",
        "dforiginal.to_csv('gs://felipesoulcodebc17/originais/marketing_campaign_pre_tratada.csv', index=False)"
      ],
      "metadata": {
        "id": "UjJ-Goe0pLqx"
      },
      "execution_count": null,
      "outputs": []
    },
    {
      "cell_type": "markdown",
      "source": [
        "##Tratamento/Análise com Spark"
      ],
      "metadata": {
        "id": "VRDX294_rdDS"
      }
    },
    {
      "cell_type": "code",
      "source": [
        "#CÓDIGO QUE ACESSA A BUCKET CRIADA E FAZ O DOWNLOAD DOS ARQUIVOS\n",
        "client = storage.Client()\n",
        "\n",
        "#CRIAR UMA VARIÁVEL CHAMADA BUCKET QUE VAI RECEBER O NOME DA BUCKET DO CLOUD STORAGE\n",
        "bucket = client.get_bucket('felipesoulcodebc17')\n",
        "#USAR O MÉTODO BLOB PARA RETORNAR O NOME DO ARQUIVO (JSON, CSV, PARQUET)\n",
        "bucket.blob('marketing_campaign_pre_tratada.csv')\n",
        "#CRIA UMA VARIÁVEL PATH PARA COLOCAR O CAMINHO DO CSV\n",
        "path = 'gs://felipesoulcodebc17/originais/marketing_campaign_pre_tratada.csv'"
      ],
      "metadata": {
        "id": "ut66dBmqwIGr"
      },
      "execution_count": null,
      "outputs": []
    },
    {
      "cell_type": "code",
      "source": [
        "spark = (\n",
        "    SparkSession.builder\n",
        "                .master ('local')\n",
        "                .appName('spark-gcs')\n",
        "                .config('spark.ui.port','4050')\n",
        "                .config('spark.jars','https://storage.googleapis.com/hadoop-lib/gcs/gcs-connector-hadoop2-latest.jar')\n",
        "                .getOrCreate()\n",
        ")"
      ],
      "metadata": {
        "id": "ZCvhfGj6jSAH"
      },
      "execution_count": null,
      "outputs": []
    },
    {
      "cell_type": "code",
      "source": [
        "meu_schema = ( StructType ([\n",
        "                            StructField(\"ID\", IntegerType(), True),\n",
        "                            StructField(\"Nascimento\", IntegerType(), True),\n",
        "                            StructField(\"Escolaridade\", StringType(), True),\n",
        "                            StructField(\"Estado_Civil\", StringType(), True),\n",
        "                            StructField(\"Renda\", FloatType(), True),\n",
        "                            StructField(\"Dependentes_crianças\", IntegerType(), True),\n",
        "                            StructField(\"Dependentes_adolescentes\", IntegerType(), True),\n",
        "                            StructField(\"Data_cadastro\", StringType(), True),\n",
        "                            StructField(\"Gasto_em_vinho\", IntegerType(), True),\n",
        "                            StructField(\"Gasto_em_frutas\", IntegerType(), True),\n",
        "                            StructField(\"Gasto_em_carnes\", IntegerType(), True),\n",
        "                            StructField(\"Gasto_em_peixe\", IntegerType(), True),\n",
        "                            StructField(\"Gasto_em_doces\", IntegerType(), True),\n",
        "                            StructField(\"Gasto_em_ouro\", IntegerType(), True),\n",
        "                            StructField(\"Compras_negociadas\",IntegerType(), True),\n",
        "                            StructField(\"Compras_website\", IntegerType(), True),\n",
        "                            StructField(\"Compras_catálogo\", IntegerType(), True),\n",
        "                            StructField(\"Compras_loja\", IntegerType(), True),\n",
        "                            StructField(\"Número_visitas_mês\", IntegerType(), True),\n",
        "                            StructField(\"Reclamação\", IntegerType(), True),\n",
        "                            StructField(\"Aceitação\", StringType(), True),      \n",
        "                            ])\n",
        ")"
      ],
      "metadata": {
        "id": "k1D-YEBqx0Tp"
      },
      "execution_count": null,
      "outputs": []
    },
    {
      "cell_type": "code",
      "source": [
        "#criar um dataframe pelo spark\n",
        "df_spark =   (spark.read.format('csv')\n",
        "                       .option('delimiter', ',')\n",
        "                       .option('header', 'true')\n",
        "                       .option('inferschema', 'true')\n",
        "                       .load('gs://felipesoulcodebc17/originais/marketing_campaign_pre_tratada.csv', schema=meu_schema)\n",
        "\n",
        ")"
      ],
      "metadata": {
        "id": "ULr0Vae54ojC"
      },
      "execution_count": null,
      "outputs": []
    },
    {
      "cell_type": "code",
      "source": [
        "#lendo dataframe\n",
        "df_spark.show(1)"
      ],
      "metadata": {
        "id": "EM66_AG85Nbt",
        "colab": {
          "base_uri": "https://localhost:8080/"
        },
        "outputId": "c4ac4e0a-87e5-4e4b-8351-00d46346d3fc"
      },
      "execution_count": null,
      "outputs": [
        {
          "output_type": "stream",
          "name": "stdout",
          "text": [
            "+----+----------+------------+------------+-------+--------------------+------------------------+-------------+--------------+---------------+---------------+--------------+--------------+-------------+------------------+---------------+----------------+------------+------------------+----------+---------+\n",
            "|  ID|Nascimento|Escolaridade|Estado_Civil|  Renda|Dependentes_crianças|Dependentes_adolescentes|Data_cadastro|Gasto_em_vinho|Gasto_em_frutas|Gasto_em_carnes|Gasto_em_peixe|Gasto_em_doces|Gasto_em_ouro|Compras_negociadas|Compras_website|Compras_catálogo|Compras_loja|Número_visitas_mês|Reclamação|Aceitação|\n",
            "+----+----------+------------+------------+-------+--------------------+------------------------+-------------+--------------+---------------+---------------+--------------+--------------+-------------+------------------+---------------+----------------+------------+------------------+----------+---------+\n",
            "|5524|      1957|   Graduação|  Soteiro(a)|58138.0|                   0|                       0|   2012-09-04|           635|             88|            546|           172|            88|           88|                 3|              8|              10|           4|                 7|         0|      Sim|\n",
            "+----+----------+------------+------------+-------+--------------------+------------------------+-------------+--------------+---------------+---------------+--------------+--------------+-------------+------------------+---------------+----------------+------------+------------------+----------+---------+\n",
            "only showing top 1 row\n",
            "\n"
          ]
        }
      ]
    },
    {
      "cell_type": "code",
      "source": [
        "#transformando coluna data em Date\n",
        "#df_spark1 = df_spark.withColumn(\"Data_cadastro\", df_spark[\"Data_cadastro\"].cast('Date'))"
      ],
      "metadata": {
        "id": "n6LLJzKGAfyG"
      },
      "execution_count": null,
      "outputs": []
    },
    {
      "cell_type": "code",
      "source": [
        "df_spark.printSchema()"
      ],
      "metadata": {
        "id": "oCHoDJr8A6Km",
        "colab": {
          "base_uri": "https://localhost:8080/"
        },
        "outputId": "bedb2176-754e-4f11-8685-39047426a713"
      },
      "execution_count": null,
      "outputs": [
        {
          "output_type": "stream",
          "name": "stdout",
          "text": [
            "root\n",
            " |-- ID: integer (nullable = true)\n",
            " |-- Nascimento: integer (nullable = true)\n",
            " |-- Escolaridade: string (nullable = true)\n",
            " |-- Estado_Civil: string (nullable = true)\n",
            " |-- Renda: float (nullable = true)\n",
            " |-- Dependentes_crianças: integer (nullable = true)\n",
            " |-- Dependentes_adolescentes: integer (nullable = true)\n",
            " |-- Data_cadastro: string (nullable = true)\n",
            " |-- Gasto_em_vinho: integer (nullable = true)\n",
            " |-- Gasto_em_frutas: integer (nullable = true)\n",
            " |-- Gasto_em_carnes: integer (nullable = true)\n",
            " |-- Gasto_em_peixe: integer (nullable = true)\n",
            " |-- Gasto_em_doces: integer (nullable = true)\n",
            " |-- Gasto_em_ouro: integer (nullable = true)\n",
            " |-- Compras_negociadas: integer (nullable = true)\n",
            " |-- Compras_website: integer (nullable = true)\n",
            " |-- Compras_catálogo: integer (nullable = true)\n",
            " |-- Compras_loja: integer (nullable = true)\n",
            " |-- Número_visitas_mês: integer (nullable = true)\n",
            " |-- Reclamação: integer (nullable = true)\n",
            " |-- Aceitação: string (nullable = true)\n",
            "\n"
          ]
        }
      ]
    },
    {
      "cell_type": "code",
      "source": [
        "df_spark = df_spark.withColumnRenamed(\"ID\",\"ID_Cliente\").withColumnRenamed(\"Renda\",\"Renda_Familiar_Anual\")"
      ],
      "metadata": {
        "id": "xNJQHRulh35Z"
      },
      "execution_count": null,
      "outputs": []
    },
    {
      "cell_type": "code",
      "source": [
        "df_spark.groupBy('Escolaridade').count().show()"
      ],
      "metadata": {
        "id": "d_eaffL6I6pF",
        "colab": {
          "base_uri": "https://localhost:8080/"
        },
        "outputId": "fbb7c583-cf0a-40b4-c0da-fbb005c1f6de"
      },
      "execution_count": null,
      "outputs": [
        {
          "output_type": "stream",
          "name": "stdout",
          "text": [
            "+--------------------+-----+\n",
            "|        Escolaridade|count|\n",
            "+--------------------+-----+\n",
            "|Licenciatura/Magi...|  203|\n",
            "|           Doutorado|  486|\n",
            "|   Nível Fundamental|   54|\n",
            "|            Mestrado|  370|\n",
            "|           Graduação| 1127|\n",
            "+--------------------+-----+\n",
            "\n"
          ]
        }
      ]
    },
    {
      "cell_type": "code",
      "source": [
        "#relação entre nível de renda e estado civil\n",
        "df_spark.groupBy('Estado_Civil').agg(F.mean('Renda_Familiar_Anual')).show()"
      ],
      "metadata": {
        "id": "z_0pDtwDJhje",
        "colab": {
          "base_uri": "https://localhost:8080/"
        },
        "outputId": "de0bf00e-1cc3-471f-97df-fc7069aa00f2"
      },
      "execution_count": null,
      "outputs": [
        {
          "output_type": "stream",
          "name": "stdout",
          "text": [
            "+-------------+-------------------------+\n",
            "| Estado_Civil|avg(Renda_Familiar_Anual)|\n",
            "+-------------+-------------------------+\n",
            "|   Soteiro(a)|        51051.32905544148|\n",
            "|     Viúvo(a)|        56426.56168831169|\n",
            "|Divorciado(a)|        52834.22844827586|\n",
            "|    Casado(a)|         51729.2103587963|\n",
            "|União Estável|        53233.48577586207|\n",
            "+-------------+-------------------------+\n",
            "\n"
          ]
        }
      ]
    },
    {
      "cell_type": "code",
      "source": [
        "#criando coluna com as classificações de renda\n",
        "df_spark1 = df_spark.withColumn('Nível_de_Renda', F.when((F.col('Renda_Familiar_Anual') > 0) & (F.col('Renda_Familiar_Anual') < 36000), F.lit('Baixa_renda'))\n",
        "                                                   .when((F.col('Renda_Familiar_Anual') > 36001) & (F.col('Renda_Familiar_Anual') < 60000), F.lit('Classe_média'))\n",
        "                                                   .otherwise(F.lit('Alta_Renda')))"
      ],
      "metadata": {
        "id": "DEShaHW4MmL4"
      },
      "execution_count": null,
      "outputs": []
    },
    {
      "cell_type": "code",
      "source": [
        "#criando coluna com faixa etária (Até 19 jovem/20 a 59 Adulto/60 pra cima Idoso)\n",
        "df_spark1 = df_spark1.withColumn('Faixa_Etária', F.when((F.col('Nascimento') > 1997) & (F.col('Nascimento') < 2022), F.lit('Jovem'))\n",
        "                                                  .when((F.col('Nascimento') > 1963) & (F.col('Nascimento') < 2002), F.lit('Adulto'))\n",
        "                                                  .otherwise(F.lit('Idoso')))"
      ],
      "metadata": {
        "id": "kLlUwIjfrh6c"
      },
      "execution_count": null,
      "outputs": []
    },
    {
      "cell_type": "code",
      "source": [
        "#criando coluna de total de compras\n",
        "df_spark1 = df_spark1.withColumn(\"Total_Compras\",(df_spark1[\"Compras_negociadas\"] + \n",
        "                                                  df_spark1[\"Compras_website\"] + \n",
        "                                                  df_spark1[\"Compras_catálogo\"] + \n",
        "                                                  df_spark1[\"Compras_loja\"]))"
      ],
      "metadata": {
        "id": "SvwO1kgSkb6v"
      },
      "execution_count": null,
      "outputs": []
    },
    {
      "cell_type": "code",
      "source": [
        "df_spark1.show(1)"
      ],
      "metadata": {
        "colab": {
          "base_uri": "https://localhost:8080/"
        },
        "id": "WJhiZuFqOLfg",
        "outputId": "2da7ac97-a735-4007-a79b-3a35a0015771"
      },
      "execution_count": null,
      "outputs": [
        {
          "output_type": "stream",
          "name": "stdout",
          "text": [
            "+----------+----------+------------+------------+--------------------+--------------------+------------------------+-------------+--------------+---------------+---------------+--------------+--------------+-------------+------------------+---------------+----------------+------------+------------------+----------+---------+--------------+------------+-------------+\n",
            "|ID_Cliente|Nascimento|Escolaridade|Estado_Civil|Renda_Familiar_Anual|Dependentes_crianças|Dependentes_adolescentes|Data_cadastro|Gasto_em_vinho|Gasto_em_frutas|Gasto_em_carnes|Gasto_em_peixe|Gasto_em_doces|Gasto_em_ouro|Compras_negociadas|Compras_website|Compras_catálogo|Compras_loja|Número_visitas_mês|Reclamação|Aceitação|Nível_de_Renda|Faixa_Etária|Total_Compras|\n",
            "+----------+----------+------------+------------+--------------------+--------------------+------------------------+-------------+--------------+---------------+---------------+--------------+--------------+-------------+------------------+---------------+----------------+------------+------------------+----------+---------+--------------+------------+-------------+\n",
            "|      5524|      1957|   Graduação|  Soteiro(a)|             58138.0|                   0|                       0|   2012-09-04|           635|             88|            546|           172|            88|           88|                 3|              8|              10|           4|                 7|         0|      Sim|  Classe_média|       Idoso|           25|\n",
            "+----------+----------+------------+------------+--------------------+--------------------+------------------------+-------------+--------------+---------------+---------------+--------------+--------------+-------------+------------------+---------------+----------------+------------+------------------+----------+---------+--------------+------------+-------------+\n",
            "only showing top 1 row\n",
            "\n"
          ]
        }
      ]
    },
    {
      "cell_type": "code",
      "source": [
        "#relação entre nível de renda e escolaridade\n",
        "#Níveis maiores de escolaridade têm maiores salários\n",
        "df_spark1.groupBy('Escolaridade').agg(F.mean('Renda_Familiar_Anual')).show()"
      ],
      "metadata": {
        "colab": {
          "base_uri": "https://localhost:8080/"
        },
        "id": "uGgFSMJnSMHj",
        "outputId": "4287dadf-bbe6-404e-b59a-f7887853a496"
      },
      "execution_count": null,
      "outputs": [
        {
          "output_type": "stream",
          "name": "stdout",
          "text": [
            "+--------------------+-------------------------+\n",
            "|        Escolaridade|avg(Renda_Familiar_Anual)|\n",
            "+--------------------+-------------------------+\n",
            "|Licenciatura/Magi...|        47701.37807881773|\n",
            "|           Doutorado|         56105.2103909465|\n",
            "|   Nível Fundamental|        20306.25925925926|\n",
            "|            Mestrado|        52908.47635135135|\n",
            "|           Graduação|         52715.7557675244|\n",
            "+--------------------+-------------------------+\n",
            "\n"
          ]
        }
      ]
    },
    {
      "cell_type": "code",
      "source": [
        "#ordenando por Renda\n",
        "df_spark1.sort(F.col('Renda_Familiar_Anual')).show()"
      ],
      "metadata": {
        "colab": {
          "base_uri": "https://localhost:8080/"
        },
        "id": "Nrvm2YxuWClT",
        "outputId": "9085650d-1aae-40af-d2d7-25eb1f850e7e"
      },
      "execution_count": null,
      "outputs": [
        {
          "output_type": "stream",
          "name": "stdout",
          "text": [
            "+----------+----------+--------------------+-------------+--------------------+--------------------+------------------------+-------------+--------------+---------------+---------------+--------------+--------------+-------------+------------------+---------------+----------------+------------+------------------+----------+---------+--------------+------------+-------------+\n",
            "|ID_Cliente|Nascimento|        Escolaridade| Estado_Civil|Renda_Familiar_Anual|Dependentes_crianças|Dependentes_adolescentes|Data_cadastro|Gasto_em_vinho|Gasto_em_frutas|Gasto_em_carnes|Gasto_em_peixe|Gasto_em_doces|Gasto_em_ouro|Compras_negociadas|Compras_website|Compras_catálogo|Compras_loja|Número_visitas_mês|Reclamação|Aceitação|Nível_de_Renda|Faixa_Etária|Total_Compras|\n",
            "+----------+----------+--------------------+-------------+--------------------+--------------------+------------------------+-------------+--------------+---------------+---------------+--------------+--------------+-------------+------------------+---------------+----------------+------------+------------------+----------+---------+--------------+------------+-------------+\n",
            "|      6862|      1971|           Graduação|Divorciado(a)|              1730.0|                   0|                       0|   2014-05-18|             1|              1|              3|             1|             1|            1|                15|              0|               0|           0|                20|         0|      Não|   Baixa_renda|      Adulto|           15|\n",
            "|      5376|      1979|           Graduação|    Casado(a)|              2447.0|                   1|                       0|   2013-01-06|             1|              1|           1725|             1|             1|            1|                15|              0|              28|           0|                 1|         0|      Não|   Baixa_renda|      Adulto|           43|\n",
            "|     11110|      1973|           Graduação|   Soteiro(a)|              3502.0|                   1|                       0|   2013-04-13|             2|              1|              1|             0|             0|            1|                 0|              0|               0|           0|                14|         0|      Não|   Baixa_renda|      Adulto|            0|\n",
            "|      9931|      1963|           Doutorado|    Casado(a)|              4023.0|                   1|                       1|   2014-06-23|             5|              0|              1|             1|             1|            1|                15|              0|               0|           0|                19|         0|      Não|   Baixa_renda|       Idoso|           15|\n",
            "|     10311|      1969|           Graduação|    Casado(a)|              4428.0|                   0|                       1|   2013-10-05|            16|              4|             12|             2|             4|          321|                 0|             25|               0|           0|                 1|         0|      Não|   Baixa_renda|      Adulto|           25|\n",
            "|      3955|      1965|           Graduação|Divorciado(a)|              4861.0|                   0|                       0|   2014-06-22|             2|              1|              1|             1|             0|            1|                 0|              0|               0|           0|                14|         0|      Não|   Baixa_renda|      Adulto|            0|\n",
            "|      9303|      1976|           Graduação|    Casado(a)|              5305.0|                   0|                       1|   2013-07-30|            12|              4|              7|             1|             3|            5|                 0|              1|               0|           0|                13|         0|      Não|   Baixa_renda|      Adulto|            1|\n",
            "|      5899|      1950|           Doutorado|União Estável|              5648.0|                   1|                       1|   2014-03-13|            28|              0|              6|             1|             1|           13|                 1|              1|               0|           0|                20|         0|      Não|   Baixa_renda|       Idoso|            2|\n",
            "|      4246|      1982|            Mestrado|   Soteiro(a)|              6560.0|                   0|                       0|   2013-12-12|            67|             11|             26|             4|             3|          262|                 0|              1|               0|           1|                17|         0|      Não|   Baixa_renda|      Adulto|            2|\n",
            "|      4303|      1957|           Doutorado|União Estável|              6835.0|                   0|                       1|   2012-12-08|           107|              2|             12|             2|             2|           12|                 0|              0|               0|           1|                20|         0|      Não|   Baixa_renda|       Idoso|            1|\n",
            "|      6237|      1966|           Doutorado|   Soteiro(a)|              7144.0|                   0|                       2|   2013-12-07|            81|              4|             33|             5|             2|          291|                 0|             23|               1|           1|                 0|         0|      Não|   Baixa_renda|      Adulto|           25|\n",
            "|      9909|      1996|Licenciatura/Magi...|    Casado(a)|              7500.0|                   0|                       0|   2012-11-09|             3|             18|             14|            15|            22|           50|                 3|              3|               1|           3|                 9|         0|      Sim|   Baixa_renda|      Adulto|           10|\n",
            "|       456|      1986|Licenciatura/Magi...|    Casado(a)|              7500.0|                   1|                       0|   2013-02-07|             1|             11|              5|             4|             6|            9|                 2|              2|               0|           3|                 8|         0|      Não|   Baixa_renda|      Adulto|            7|\n",
            "|     10710|      1979|           Graduação|    Casado(a)|              7500.0|                   0|                       1|   2012-08-29|             5|              2|              3|             3|             0|            5|                 1|              1|               0|           2|                 8|         0|      Não|   Baixa_renda|      Adulto|            4|\n",
            "|      2139|      1975|            Mestrado|    Casado(a)|              7500.0|                   1|                       0|   2013-10-02|             3|              1|             10|             3|             2|           12|                 3|              2|               0|           3|                 5|         0|      Não|   Baixa_renda|      Adulto|            8|\n",
            "|      9553|      1987|           Graduação|    Casado(a)|              7500.0|                   0|                       0|   2013-01-09|             0|              2|              3|             4|             1|            5|                 1|              0|               0|           3|                 6|         0|      Não|   Baixa_renda|      Adulto|            4|\n",
            "|     10641|      1978|           Graduação|   Soteiro(a)|              7500.0|                   1|                       1|   2012-12-27|             6|              5|              4|            13|             4|           25|                 4|              2|               1|           3|                 6|         0|      Não|   Baixa_renda|      Adulto|           10|\n",
            "|     10659|      1979|Licenciatura/Magi...|União Estável|              7500.0|                   1|                       0|   2013-05-07|             2|              8|             11|             3|             8|           21|                 4|              3|               2|           2|                 7|         0|      Não|   Baixa_renda|      Adulto|           11|\n",
            "|      4692|      1976|           Graduação|    Casado(a)|              7500.0|                   1|                       0|   2012-08-01|             7|              0|             12|            13|             7|           32|                 5|              4|               1|           2|                 9|         0|      Sim|   Baixa_renda|      Adulto|           12|\n",
            "|     10001|      1985|Licenciatura/Magi...|União Estável|              7500.0|                   1|                       0|   2012-08-01|             5|             17|             17|            13|            14|           34|                 4|              2|               1|           3|                 9|         0|      Não|   Baixa_renda|      Adulto|           10|\n",
            "+----------+----------+--------------------+-------------+--------------------+--------------------+------------------------+-------------+--------------+---------------+---------------+--------------+--------------+-------------+------------------+---------------+----------------+------------+------------------+----------+---------+--------------+------------+-------------+\n",
            "only showing top 20 rows\n",
            "\n"
          ]
        }
      ]
    },
    {
      "cell_type": "code",
      "source": [
        "#compras na web por estado civil\n",
        "df_spark1.groupBy('Estado_Civil').agg(F.sum('Compras_website')).show()"
      ],
      "metadata": {
        "colab": {
          "base_uri": "https://localhost:8080/"
        },
        "id": "yWULb_ykqOUE",
        "outputId": "2f4ee5a4-a8fe-441a-e453-7ff9a02a5d20"
      },
      "execution_count": null,
      "outputs": [
        {
          "output_type": "stream",
          "name": "stdout",
          "text": [
            "+-------------+--------------------+\n",
            "| Estado_Civil|sum(Compras_website)|\n",
            "+-------------+--------------------+\n",
            "|   Soteiro(a)|                1895|\n",
            "|     Viúvo(a)|                 356|\n",
            "|Divorciado(a)|                1000|\n",
            "|    Casado(a)|                3532|\n",
            "|União Estável|                2367|\n",
            "+-------------+--------------------+\n",
            "\n"
          ]
        }
      ]
    },
    {
      "cell_type": "code",
      "source": [
        "#compras por todos os canais por faixa etária\n",
        "df_spark1.groupBy('Estado_Civil').agg(F.count('Faixa_etária'), F.sum('Compras_website'), F.sum('Compras_catálogo'), F.sum('Compras_loja')).show()"
      ],
      "metadata": {
        "colab": {
          "base_uri": "https://localhost:8080/"
        },
        "id": "iX8O_g1o42Ut",
        "outputId": "c1d9e05d-2c56-4eda-b0d1-6cfd8dd0326b"
      },
      "execution_count": null,
      "outputs": [
        {
          "output_type": "stream",
          "name": "stdout",
          "text": [
            "+-------------+-------------------+--------------------+---------------------+-----------------+\n",
            "| Estado_Civil|count(Faixa_etária)|sum(Compras_website)|sum(Compras_catálogo)|sum(Compras_loja)|\n",
            "+-------------+-------------------+--------------------+---------------------+-----------------+\n",
            "|   Soteiro(a)|                487|                1895|                 1267|             2744|\n",
            "|     Viúvo(a)|                 77|                 356|                  256|              494|\n",
            "|Divorciado(a)|                232|                1000|                  620|             1350|\n",
            "|    Casado(a)|                864|                3532|                 2268|             5055|\n",
            "|União Estável|                580|                2367|                 1552|             3327|\n",
            "+-------------+-------------------+--------------------+---------------------+-----------------+\n",
            "\n"
          ]
        }
      ]
    },
    {
      "cell_type": "code",
      "source": [
        "#Criando uma window\n",
        "w0 = Window.partitionBy(df_spark1[\"Escolaridade\"]).orderBy(\"Total_Compras\")"
      ],
      "metadata": {
        "id": "qSeAguXVUmZi"
      },
      "execution_count": null,
      "outputs": []
    },
    {
      "cell_type": "code",
      "source": [
        "#Window Function1 - Ranking\n",
        "df_spark1.withColumn(\"Ranking\",F.rank().over(w0)).show()"
      ],
      "metadata": {
        "colab": {
          "base_uri": "https://localhost:8080/"
        },
        "id": "h2AxDLc_mGbH",
        "outputId": "db099c0d-ee32-408b-e0d6-8dc0277a7f8d"
      },
      "execution_count": null,
      "outputs": [
        {
          "output_type": "stream",
          "name": "stdout",
          "text": [
            "+----------+----------+------------+-------------+--------------------+--------------------+------------------------+-------------+--------------+---------------+---------------+--------------+--------------+-------------+------------------+---------------+----------------+------------+------------------+----------+---------+--------------+------------+-------------+-------+\n",
            "|ID_Cliente|Nascimento|Escolaridade| Estado_Civil|Renda_Familiar_Anual|Dependentes_crianças|Dependentes_adolescentes|Data_cadastro|Gasto_em_vinho|Gasto_em_frutas|Gasto_em_carnes|Gasto_em_peixe|Gasto_em_doces|Gasto_em_ouro|Compras_negociadas|Compras_website|Compras_catálogo|Compras_loja|Número_visitas_mês|Reclamação|Aceitação|Nível_de_Renda|Faixa_Etária|Total_Compras|Ranking|\n",
            "+----------+----------+------------+-------------+--------------------+--------------------+------------------------+-------------+--------------+---------------+---------------+--------------+--------------+-------------+------------------+---------------+----------------+------------+------------------+----------+---------+--------------+------------+-------------+-------+\n",
            "|     11181|      1949|   Doutorado|    Casado(a)|            156924.0|                   0|                       0|   2013-08-29|             2|              1|              2|             1|             1|            1|                 0|              0|               0|           0|                 0|         0|      Não|    Alta_Renda|       Idoso|            0|      1|\n",
            "|      4303|      1957|   Doutorado|União Estável|              6835.0|                   0|                       1|   2012-12-08|           107|              2|             12|             2|             2|           12|                 0|              0|               0|           1|                20|         0|      Não|   Baixa_renda|       Idoso|            1|      2|\n",
            "|      1503|      1976|   Doutorado|União Estável|            162397.0|                   1|                       1|   2013-06-03|            85|              1|             16|             2|             1|            2|                 0|              0|               0|           1|                 1|         0|      Não|    Alta_Renda|      Adulto|            1|      2|\n",
            "|      5899|      1950|   Doutorado|União Estável|              5648.0|                   1|                       1|   2014-03-13|            28|              0|              6|             1|             1|           13|                 1|              1|               0|           0|                20|         0|      Não|   Baixa_renda|       Idoso|            2|      4|\n",
            "|      3153|      1957|   Doutorado|   Soteiro(a)|             40737.0|                   2|                       1|   2013-12-08|            11|              0|              4|             0|             0|            2|                 1|              1|               0|           2|                 8|         0|      Não|  Classe_média|       Idoso|            4|      5|\n",
            "|       933|      1978|   Doutorado|    Casado(a)|             37717.0|                   1|                       0|   2012-11-23|             9|              0|              6|             4|             1|            5|                 1|              1|               0|           2|                 9|         0|      Não|  Classe_média|      Adulto|            4|      5|\n",
            "|      3726|      1986|   Doutorado|União Estável|             34320.0|                   1|                       0|   2014-02-16|             4|              1|              9|             3|             0|            0|                 1|              1|               0|           2|                 8|         0|      Não|   Baixa_renda|      Adulto|            4|      5|\n",
            "|      9396|      1978|   Doutorado|    Casado(a)|             37717.0|                   1|                       0|   2012-11-23|             9|              0|              6|             4|             1|            5|                 1|              1|               0|           2|                 9|         0|      Não|  Classe_média|      Adulto|            4|      5|\n",
            "|      8275|      1965|   Doutorado|Divorciado(a)|             47025.0|                   1|                       1|   2014-02-09|            16|              0|              3|             0|             0|            1|                 1|              1|               0|           2|                 7|         0|      Não|  Classe_média|      Adulto|            4|      5|\n",
            "|      2098|      1969|   Doutorado|    Casado(a)|             33581.0|                   2|                       0|   2013-01-08|            11|              0|              5|             0|             0|            1|                 1|              1|               0|           2|                 8|         0|      Não|   Baixa_renda|      Adulto|            4|      5|\n",
            "|      8754|      1974|   Doutorado|União Estável|             45068.0|                   0|                       1|   2013-05-16|            14|              0|              3|             0|             0|            3|                 1|              1|               0|           2|                 7|         0|      Não|  Classe_média|      Adulto|            4|      5|\n",
            "|      5329|      1949|   Doutorado|Divorciado(a)|             35946.0|                   1|                       1|   2013-09-27|             8|              0|              3|             0|             0|            0|                 1|              0|               0|           3|                 5|         0|      Não|   Baixa_renda|       Idoso|            4|      5|\n",
            "|      3081|      1978|   Doutorado|    Casado(a)|             41014.0|                   1|                       0|   2013-04-22|             7|              2|              6|             2|             0|            3|                 1|              1|               0|           2|                 7|         0|      Não|  Classe_média|      Adulto|            4|      5|\n",
            "|      7788|      1983|   Doutorado|    Casado(a)|             23536.0|                   1|                       0|   2014-06-04|             6|              0|              3|             0|             0|            1|                 1|              0|               0|           3|                 3|         0|      Não|   Baixa_renda|      Adulto|            4|      5|\n",
            "|      2620|      1974|   Doutorado|    Casado(a)|             34596.0|                   1|                       0|   2013-04-13|            14|              0|              2|             0|             0|            7|                 1|              1|               0|           2|                 8|         0|      Sim|   Baixa_renda|      Adulto|            4|      5|\n",
            "|      7128|      1977|   Doutorado|   Soteiro(a)|             42997.0|                   1|                       1|   2013-12-07|             4|              0|              5|             0|             1|            5|                 1|              1|               0|           2|                 7|         0|      Não|  Classe_média|      Adulto|            4|      5|\n",
            "|      2836|      1972|   Doutorado|    Casado(a)|             43269.0|                   1|                       0|   2013-09-16|            10|              1|              7|             0|             0|            1|                 1|              1|               0|           2|                 8|         0|      Não|  Classe_média|      Adulto|            4|      5|\n",
            "|     10790|      1985|   Doutorado|    Casado(a)|             18169.0|                   1|                       0|   2013-02-19|             9|              0|              5|             0|             0|            7|                 1|              1|               0|           2|                 8|         0|      Não|   Baixa_renda|      Adulto|            4|      5|\n",
            "|      6119|      1963|   Doutorado|   Soteiro(a)|             36736.0|                   1|                       1|   2013-05-10|            10|              0|              3|             0|             0|            4|                 1|              1|               0|           2|                 6|         0|      Não|  Classe_média|       Idoso|            4|      5|\n",
            "|     10022|      1973|   Doutorado|   Soteiro(a)|             54466.0|                   1|                       1|   2014-02-09|            12|              0|              4|             0|             0|            0|                 1|              1|               0|           2|                 5|         0|      Não|  Classe_média|      Adulto|            4|      5|\n",
            "+----------+----------+------------+-------------+--------------------+--------------------+------------------------+-------------+--------------+---------------+---------------+--------------+--------------+-------------+------------------+---------------+----------------+------------+------------------+----------+---------+--------------+------------+-------------+-------+\n",
            "only showing top 20 rows\n",
            "\n"
          ]
        }
      ]
    },
    {
      "cell_type": "code",
      "source": [
        "#Window Function2 - Dense Rank\n",
        "df_spark1.withColumn(\"Dense_Rank\",F.dense_rank().over(w0)).show()"
      ],
      "metadata": {
        "colab": {
          "base_uri": "https://localhost:8080/"
        },
        "id": "kUUr4I209Ro5",
        "outputId": "3ac00a5d-7eaf-40b0-aee0-ef75eca8f10c"
      },
      "execution_count": null,
      "outputs": [
        {
          "output_type": "stream",
          "name": "stdout",
          "text": [
            "+----------+----------+------------+-------------+--------------------+--------------------+------------------------+-------------+--------------+---------------+---------------+--------------+--------------+-------------+------------------+---------------+----------------+------------+------------------+----------+---------+--------------+------------+-------------+----------+\n",
            "|ID_Cliente|Nascimento|Escolaridade| Estado_Civil|Renda_Familiar_Anual|Dependentes_crianças|Dependentes_adolescentes|Data_cadastro|Gasto_em_vinho|Gasto_em_frutas|Gasto_em_carnes|Gasto_em_peixe|Gasto_em_doces|Gasto_em_ouro|Compras_negociadas|Compras_website|Compras_catálogo|Compras_loja|Número_visitas_mês|Reclamação|Aceitação|Nível_de_Renda|Faixa_Etária|Total_Compras|Dense_Rank|\n",
            "+----------+----------+------------+-------------+--------------------+--------------------+------------------------+-------------+--------------+---------------+---------------+--------------+--------------+-------------+------------------+---------------+----------------+------------+------------------+----------+---------+--------------+------------+-------------+----------+\n",
            "|     11181|      1949|   Doutorado|    Casado(a)|            156924.0|                   0|                       0|   2013-08-29|             2|              1|              2|             1|             1|            1|                 0|              0|               0|           0|                 0|         0|      Não|    Alta_Renda|       Idoso|            0|         1|\n",
            "|      4303|      1957|   Doutorado|União Estável|              6835.0|                   0|                       1|   2012-12-08|           107|              2|             12|             2|             2|           12|                 0|              0|               0|           1|                20|         0|      Não|   Baixa_renda|       Idoso|            1|         2|\n",
            "|      1503|      1976|   Doutorado|União Estável|            162397.0|                   1|                       1|   2013-06-03|            85|              1|             16|             2|             1|            2|                 0|              0|               0|           1|                 1|         0|      Não|    Alta_Renda|      Adulto|            1|         2|\n",
            "|      5899|      1950|   Doutorado|União Estável|              5648.0|                   1|                       1|   2014-03-13|            28|              0|              6|             1|             1|           13|                 1|              1|               0|           0|                20|         0|      Não|   Baixa_renda|       Idoso|            2|         3|\n",
            "|      3153|      1957|   Doutorado|   Soteiro(a)|             40737.0|                   2|                       1|   2013-12-08|            11|              0|              4|             0|             0|            2|                 1|              1|               0|           2|                 8|         0|      Não|  Classe_média|       Idoso|            4|         4|\n",
            "|       933|      1978|   Doutorado|    Casado(a)|             37717.0|                   1|                       0|   2012-11-23|             9|              0|              6|             4|             1|            5|                 1|              1|               0|           2|                 9|         0|      Não|  Classe_média|      Adulto|            4|         4|\n",
            "|      3726|      1986|   Doutorado|União Estável|             34320.0|                   1|                       0|   2014-02-16|             4|              1|              9|             3|             0|            0|                 1|              1|               0|           2|                 8|         0|      Não|   Baixa_renda|      Adulto|            4|         4|\n",
            "|      9396|      1978|   Doutorado|    Casado(a)|             37717.0|                   1|                       0|   2012-11-23|             9|              0|              6|             4|             1|            5|                 1|              1|               0|           2|                 9|         0|      Não|  Classe_média|      Adulto|            4|         4|\n",
            "|      8275|      1965|   Doutorado|Divorciado(a)|             47025.0|                   1|                       1|   2014-02-09|            16|              0|              3|             0|             0|            1|                 1|              1|               0|           2|                 7|         0|      Não|  Classe_média|      Adulto|            4|         4|\n",
            "|      2098|      1969|   Doutorado|    Casado(a)|             33581.0|                   2|                       0|   2013-01-08|            11|              0|              5|             0|             0|            1|                 1|              1|               0|           2|                 8|         0|      Não|   Baixa_renda|      Adulto|            4|         4|\n",
            "|      8754|      1974|   Doutorado|União Estável|             45068.0|                   0|                       1|   2013-05-16|            14|              0|              3|             0|             0|            3|                 1|              1|               0|           2|                 7|         0|      Não|  Classe_média|      Adulto|            4|         4|\n",
            "|      5329|      1949|   Doutorado|Divorciado(a)|             35946.0|                   1|                       1|   2013-09-27|             8|              0|              3|             0|             0|            0|                 1|              0|               0|           3|                 5|         0|      Não|   Baixa_renda|       Idoso|            4|         4|\n",
            "|      3081|      1978|   Doutorado|    Casado(a)|             41014.0|                   1|                       0|   2013-04-22|             7|              2|              6|             2|             0|            3|                 1|              1|               0|           2|                 7|         0|      Não|  Classe_média|      Adulto|            4|         4|\n",
            "|      7788|      1983|   Doutorado|    Casado(a)|             23536.0|                   1|                       0|   2014-06-04|             6|              0|              3|             0|             0|            1|                 1|              0|               0|           3|                 3|         0|      Não|   Baixa_renda|      Adulto|            4|         4|\n",
            "|      2620|      1974|   Doutorado|    Casado(a)|             34596.0|                   1|                       0|   2013-04-13|            14|              0|              2|             0|             0|            7|                 1|              1|               0|           2|                 8|         0|      Sim|   Baixa_renda|      Adulto|            4|         4|\n",
            "|      7128|      1977|   Doutorado|   Soteiro(a)|             42997.0|                   1|                       1|   2013-12-07|             4|              0|              5|             0|             1|            5|                 1|              1|               0|           2|                 7|         0|      Não|  Classe_média|      Adulto|            4|         4|\n",
            "|      2836|      1972|   Doutorado|    Casado(a)|             43269.0|                   1|                       0|   2013-09-16|            10|              1|              7|             0|             0|            1|                 1|              1|               0|           2|                 8|         0|      Não|  Classe_média|      Adulto|            4|         4|\n",
            "|     10790|      1985|   Doutorado|    Casado(a)|             18169.0|                   1|                       0|   2013-02-19|             9|              0|              5|             0|             0|            7|                 1|              1|               0|           2|                 8|         0|      Não|   Baixa_renda|      Adulto|            4|         4|\n",
            "|      6119|      1963|   Doutorado|   Soteiro(a)|             36736.0|                   1|                       1|   2013-05-10|            10|              0|              3|             0|             0|            4|                 1|              1|               0|           2|                 6|         0|      Não|  Classe_média|       Idoso|            4|         4|\n",
            "|     10022|      1973|   Doutorado|   Soteiro(a)|             54466.0|                   1|                       1|   2014-02-09|            12|              0|              4|             0|             0|            0|                 1|              1|               0|           2|                 5|         0|      Não|  Classe_média|      Adulto|            4|         4|\n",
            "+----------+----------+------------+-------------+--------------------+--------------------+------------------------+-------------+--------------+---------------+---------------+--------------+--------------+-------------+------------------+---------------+----------------+------------+------------------+----------+---------+--------------+------------+-------------+----------+\n",
            "only showing top 20 rows\n",
            "\n"
          ]
        }
      ]
    },
    {
      "cell_type": "code",
      "source": [
        "#Select para exibir o ID_Cliente, Escolaridade, Renda_Familiar_Anual, Total_Compras de clientes ordenado pelo total de compras\n",
        "df_spark1.select(df_spark1[\"ID_Cliente\"],df_spark1[\"Escolaridade\"],df_spark1[\"Renda_Familiar_Anual\"],df_spark1[\"Total_Compras\"]).orderBy(\"Total_Compras\").show()"
      ],
      "metadata": {
        "colab": {
          "base_uri": "https://localhost:8080/"
        },
        "id": "jwJQegQL9yuN",
        "outputId": "171f8eb8-13e1-477a-946b-e21f9b1d2305"
      },
      "execution_count": null,
      "outputs": [
        {
          "output_type": "stream",
          "name": "stdout",
          "text": [
            "+----------+--------------------+--------------------+-------------+\n",
            "|ID_Cliente|        Escolaridade|Renda_Familiar_Anual|Total_Compras|\n",
            "+----------+--------------------+--------------------+-------------+\n",
            "|     11110|           Graduação|              3502.0|            0|\n",
            "|     11181|           Doutorado|            156924.0|            0|\n",
            "|      5555|           Graduação|            153924.0|            0|\n",
            "|      3955|           Graduação|              4861.0|            0|\n",
            "|      4303|           Doutorado|              6835.0|            1|\n",
            "|      1503|           Doutorado|            162397.0|            1|\n",
            "|      9303|           Graduação|              5305.0|            1|\n",
            "|      8720|Licenciatura/Magi...|            52247.25|            1|\n",
            "|      5899|           Doutorado|              5648.0|            2|\n",
            "|      5336|            Mestrado|            157733.0|            2|\n",
            "|      4246|            Mestrado|              6560.0|            2|\n",
            "|     10401|Licenciatura/Magi...|             26326.0|            4|\n",
            "|      9543|           Graduação|             19986.0|            4|\n",
            "|      5846|           Graduação|             40246.0|            4|\n",
            "|      9283|           Graduação|             60199.0|            4|\n",
            "|     11004|Licenciatura/Magi...|             60182.0|            4|\n",
            "|     10364|           Graduação|             23295.0|            4|\n",
            "|      9235|           Graduação|            52247.25|            4|\n",
            "|     10492|           Graduação|             38285.0|            4|\n",
            "|      2261|           Graduação|             26304.0|            4|\n",
            "+----------+--------------------+--------------------+-------------+\n",
            "only showing top 20 rows\n",
            "\n"
          ]
        }
      ]
    },
    {
      "cell_type": "code",
      "source": [
        "df_mongo = df_spark1.toPandas()"
      ],
      "metadata": {
        "id": "wrBSYvCcAm6n"
      },
      "execution_count": null,
      "outputs": []
    },
    {
      "cell_type": "code",
      "source": [
        "df_mongo.dtypes"
      ],
      "metadata": {
        "colab": {
          "base_uri": "https://localhost:8080/"
        },
        "id": "kHFP_kgNAvjW",
        "outputId": "1242c415-4199-496f-899f-4b5c66a2135a"
      },
      "execution_count": null,
      "outputs": [
        {
          "output_type": "execute_result",
          "data": {
            "text/plain": [
              "ID_Cliente                    int32\n",
              "Nascimento                    int32\n",
              "Escolaridade                 object\n",
              "Estado_Civil                 object\n",
              "Renda_Familiar_Anual        float32\n",
              "Dependentes_crianças          int32\n",
              "Dependentes_adolescentes      int32\n",
              "Data_cadastro                object\n",
              "Gasto_em_vinho                int32\n",
              "Gasto_em_frutas               int32\n",
              "Gasto_em_carnes               int32\n",
              "Gasto_em_peixe                int32\n",
              "Gasto_em_doces                int32\n",
              "Gasto_em_ouro                 int32\n",
              "Compras_negociadas            int32\n",
              "Compras_website               int32\n",
              "Compras_catálogo              int32\n",
              "Compras_loja                  int32\n",
              "Número_visitas_mês            int32\n",
              "Reclamação                    int32\n",
              "Aceitação                    object\n",
              "Nível_de_Renda               object\n",
              "Faixa_Etária                 object\n",
              "Total_Compras                 int32\n",
              "dtype: object"
            ]
          },
          "metadata": {},
          "execution_count": 52
        }
      ]
    },
    {
      "cell_type": "code",
      "source": [
        "#inserindo df tratado como .csv no bucket\n",
        "df_mongo.to_csv('gs://felipesoulcodebc17/tratados/marketing_campaign_tratada1.csv', index=False)"
      ],
      "metadata": {
        "id": "WPUsHP5XEaQS"
      },
      "execution_count": null,
      "outputs": []
    },
    {
      "cell_type": "code",
      "source": [
        "#determinando a collection\n",
        "collection1 = db['marketing_campaign_tratada1']"
      ],
      "metadata": {
        "id": "KcB7Jpf0EtbB"
      },
      "execution_count": null,
      "outputs": []
    },
    {
      "cell_type": "code",
      "source": [
        "#transformando em dicionario\n",
        "df_dicio2 = df_mongo.to_dict(\"records\")"
      ],
      "metadata": {
        "id": "1QG_m74HFBzO"
      },
      "execution_count": null,
      "outputs": []
    },
    {
      "cell_type": "code",
      "source": [
        "#inserindo df tratado no mongo\n",
        "collection1.insert_many(df_dicio2)"
      ],
      "metadata": {
        "id": "Sk65ME0OE5w-"
      },
      "execution_count": null,
      "outputs": []
    }
  ]
}